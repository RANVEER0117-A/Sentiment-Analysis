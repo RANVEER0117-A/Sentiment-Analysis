{
  "cells": [
    {
      "cell_type": "markdown",
      "metadata": {
        "id": "view-in-github",
        "colab_type": "text"
      },
      "source": [
        "<a href=\"https://colab.research.google.com/github/RANVEER0117-A/Sentiment-Analysis/blob/main/Sentiment_Analysis.ipynb\" target=\"_parent\"><img src=\"https://colab.research.google.com/assets/colab-badge.svg\" alt=\"Open In Colab\"/></a>"
      ]
    },
    {
      "cell_type": "markdown",
      "metadata": {
        "id": "4sbr_J3Oc-HC"
      },
      "source": [
        "# Analysing sentiments about movie reviews using nlp"
      ]
    },
    {
      "cell_type": "code",
      "execution_count": null,
      "metadata": {
        "colab": {
          "background_save": true,
          "base_uri": "https://localhost:8080/"
        },
        "id": "gfl2wgNjT0Zw",
        "outputId": "21428e77-7f3f-460f-b869-b17f8475533f"
      },
      "outputs": [
        {
          "name": "stderr",
          "output_type": "stream",
          "text": [
            "[nltk_data] Downloading package omw-1.4 to /root/nltk_data...\n",
            "[nltk_data]   Package omw-1.4 is already up-to-date!\n",
            "[nltk_data] Downloading package punkt to /root/nltk_data...\n",
            "[nltk_data]   Package punkt is already up-to-date!\n"
          ]
        },
        {
          "data": {
            "text/plain": [
              "True"
            ]
          },
          "execution_count": null,
          "metadata": {},
          "output_type": "execute_result"
        }
      ],
      "source": [
        "import nltk\n",
        "nltk.download('omw-1.4')\n",
        "nltk.download('punkt')"
      ]
    },
    {
      "cell_type": "code",
      "execution_count": null,
      "metadata": {
        "id": "zMOvKuDIGbyf"
      },
      "outputs": [],
      "source": [
        "import os\n",
        "os.environ['TF_CPP_MIN_LOG_LEVEL'] = '3' \n",
        "import pandas as pd\n",
        "import re\n",
        "import nltk\n",
        "from nltk.tokenize import word_tokenize\n",
        "from nltk.stem import WordNetLemmatizer\n",
        "from string import punctuation\n",
        "from nltk.corpus import stopwords\n",
        "from collections import Counter\n",
        "from tensorflow.keras.preprocessing.text import Tokenizer\n",
        "import numpy as np\n",
        "from tensorflow import keras \n",
        "from tensorflow.keras.preprocessing.sequence import pad_sequences  \n",
        "from tensorflow.keras.models import Sequential\n",
        "from tensorflow.keras.layers import Dense, Flatten, Dropout, LSTM, Embedding, Bidirectional, BatchNormalization\n",
        "from sklearn.model_selection import train_test_split\n",
        "from tensorflow.keras.utils import to_categorical\n",
        "import matplotlib.pyplot as plt\n",
        "from sklearn.utils import shuffle, resample"
      ]
    },
    {
      "cell_type": "markdown",
      "metadata": {
        "id": "iCj_2luvVeWC"
      },
      "source": [
        "# Loading the file"
      ]
    },
    {
      "cell_type": "code",
      "execution_count": null,
      "metadata": {
        "colab": {
          "background_save": true,
          "base_uri": "https://localhost:8080/",
          "height": 204
        },
        "id": "OsfJ855oViH_",
        "outputId": "ec242939-f59d-44ec-c62c-61d32b2cb3d4"
      },
      "outputs": [
        {
          "data": {
            "text/html": [
              "\n",
              "  <div id=\"df-2a95fd19-c145-47c2-89af-b8665db0f6bb\">\n",
              "    <div class=\"colab-df-container\">\n",
              "      <div>\n",
              "<style scoped>\n",
              "    .dataframe tbody tr th:only-of-type {\n",
              "        vertical-align: middle;\n",
              "    }\n",
              "\n",
              "    .dataframe tbody tr th {\n",
              "        vertical-align: top;\n",
              "    }\n",
              "\n",
              "    .dataframe thead th {\n",
              "        text-align: right;\n",
              "    }\n",
              "</style>\n",
              "<table border=\"1\" class=\"dataframe\">\n",
              "  <thead>\n",
              "    <tr style=\"text-align: right;\">\n",
              "      <th></th>\n",
              "      <th>PhraseId</th>\n",
              "      <th>SentenceId</th>\n",
              "      <th>Phrase</th>\n",
              "      <th>Sentiment</th>\n",
              "    </tr>\n",
              "  </thead>\n",
              "  <tbody>\n",
              "    <tr>\n",
              "      <th>0</th>\n",
              "      <td>1</td>\n",
              "      <td>1</td>\n",
              "      <td>A series of escapades demonstrating the adage ...</td>\n",
              "      <td>1</td>\n",
              "    </tr>\n",
              "    <tr>\n",
              "      <th>1</th>\n",
              "      <td>2</td>\n",
              "      <td>1</td>\n",
              "      <td>A series of escapades demonstrating the adage ...</td>\n",
              "      <td>2</td>\n",
              "    </tr>\n",
              "    <tr>\n",
              "      <th>2</th>\n",
              "      <td>3</td>\n",
              "      <td>1</td>\n",
              "      <td>A series</td>\n",
              "      <td>2</td>\n",
              "    </tr>\n",
              "    <tr>\n",
              "      <th>3</th>\n",
              "      <td>4</td>\n",
              "      <td>1</td>\n",
              "      <td>A</td>\n",
              "      <td>2</td>\n",
              "    </tr>\n",
              "    <tr>\n",
              "      <th>4</th>\n",
              "      <td>5</td>\n",
              "      <td>1</td>\n",
              "      <td>series</td>\n",
              "      <td>2</td>\n",
              "    </tr>\n",
              "  </tbody>\n",
              "</table>\n",
              "</div>\n",
              "      <button class=\"colab-df-convert\" onclick=\"convertToInteractive('df-2a95fd19-c145-47c2-89af-b8665db0f6bb')\"\n",
              "              title=\"Convert this dataframe to an interactive table.\"\n",
              "              style=\"display:none;\">\n",
              "        \n",
              "  <svg xmlns=\"http://www.w3.org/2000/svg\" height=\"24px\"viewBox=\"0 0 24 24\"\n",
              "       width=\"24px\">\n",
              "    <path d=\"M0 0h24v24H0V0z\" fill=\"none\"/>\n",
              "    <path d=\"M18.56 5.44l.94 2.06.94-2.06 2.06-.94-2.06-.94-.94-2.06-.94 2.06-2.06.94zm-11 1L8.5 8.5l.94-2.06 2.06-.94-2.06-.94L8.5 2.5l-.94 2.06-2.06.94zm10 10l.94 2.06.94-2.06 2.06-.94-2.06-.94-.94-2.06-.94 2.06-2.06.94z\"/><path d=\"M17.41 7.96l-1.37-1.37c-.4-.4-.92-.59-1.43-.59-.52 0-1.04.2-1.43.59L10.3 9.45l-7.72 7.72c-.78.78-.78 2.05 0 2.83L4 21.41c.39.39.9.59 1.41.59.51 0 1.02-.2 1.41-.59l7.78-7.78 2.81-2.81c.8-.78.8-2.07 0-2.86zM5.41 20L4 18.59l7.72-7.72 1.47 1.35L5.41 20z\"/>\n",
              "  </svg>\n",
              "      </button>\n",
              "      \n",
              "  <style>\n",
              "    .colab-df-container {\n",
              "      display:flex;\n",
              "      flex-wrap:wrap;\n",
              "      gap: 12px;\n",
              "    }\n",
              "\n",
              "    .colab-df-convert {\n",
              "      background-color: #E8F0FE;\n",
              "      border: none;\n",
              "      border-radius: 50%;\n",
              "      cursor: pointer;\n",
              "      display: none;\n",
              "      fill: #1967D2;\n",
              "      height: 32px;\n",
              "      padding: 0 0 0 0;\n",
              "      width: 32px;\n",
              "    }\n",
              "\n",
              "    .colab-df-convert:hover {\n",
              "      background-color: #E2EBFA;\n",
              "      box-shadow: 0px 1px 2px rgba(60, 64, 67, 0.3), 0px 1px 3px 1px rgba(60, 64, 67, 0.15);\n",
              "      fill: #174EA6;\n",
              "    }\n",
              "\n",
              "    [theme=dark] .colab-df-convert {\n",
              "      background-color: #3B4455;\n",
              "      fill: #D2E3FC;\n",
              "    }\n",
              "\n",
              "    [theme=dark] .colab-df-convert:hover {\n",
              "      background-color: #434B5C;\n",
              "      box-shadow: 0px 1px 3px 1px rgba(0, 0, 0, 0.15);\n",
              "      filter: drop-shadow(0px 1px 2px rgba(0, 0, 0, 0.3));\n",
              "      fill: #FFFFFF;\n",
              "    }\n",
              "  </style>\n",
              "\n",
              "      <script>\n",
              "        const buttonEl =\n",
              "          document.querySelector('#df-2a95fd19-c145-47c2-89af-b8665db0f6bb button.colab-df-convert');\n",
              "        buttonEl.style.display =\n",
              "          google.colab.kernel.accessAllowed ? 'block' : 'none';\n",
              "\n",
              "        async function convertToInteractive(key) {\n",
              "          const element = document.querySelector('#df-2a95fd19-c145-47c2-89af-b8665db0f6bb');\n",
              "          const dataTable =\n",
              "            await google.colab.kernel.invokeFunction('convertToInteractive',\n",
              "                                                     [key], {});\n",
              "          if (!dataTable) return;\n",
              "\n",
              "          const docLinkHtml = 'Like what you see? Visit the ' +\n",
              "            '<a target=\"_blank\" href=https://colab.research.google.com/notebooks/data_table.ipynb>data table notebook</a>'\n",
              "            + ' to learn more about interactive tables.';\n",
              "          element.innerHTML = '';\n",
              "          dataTable['output_type'] = 'display_data';\n",
              "          await google.colab.output.renderOutput(dataTable, element);\n",
              "          const docLink = document.createElement('div');\n",
              "          docLink.innerHTML = docLinkHtml;\n",
              "          element.appendChild(docLink);\n",
              "        }\n",
              "      </script>\n",
              "    </div>\n",
              "  </div>\n",
              "  "
            ],
            "text/plain": [
              "   PhraseId  SentenceId                                             Phrase  \\\n",
              "0         1           1  A series of escapades demonstrating the adage ...   \n",
              "1         2           1  A series of escapades demonstrating the adage ...   \n",
              "2         3           1                                           A series   \n",
              "3         4           1                                                  A   \n",
              "4         5           1                                             series   \n",
              "\n",
              "   Sentiment  \n",
              "0          1  \n",
              "1          2  \n",
              "2          2  \n",
              "3          2  \n",
              "4          2  "
            ]
          },
          "execution_count": null,
          "metadata": {},
          "output_type": "execute_result"
        }
      ],
      "source": [
        "train=pd.read_csv(\"/content/train.tsv.zip\", sep=\"\t\")\n",
        "test=pd.read_csv(\"/content/train.tsv.zip\", sep=\"\t\")\n",
        "train.head()"
      ]
    },
    {
      "cell_type": "code",
      "execution_count": null,
      "metadata": {
        "colab": {
          "base_uri": "https://localhost:8080/"
        },
        "id": "h1sC-E8-Vkve",
        "outputId": "537d69b6-f54c-4bf5-899f-f9ad0e6328c3"
      },
      "outputs": [
        {
          "data": {
            "text/plain": [
              "((156060, 4), (156060, 4))"
            ]
          },
          "execution_count": 3,
          "metadata": {},
          "output_type": "execute_result"
        }
      ],
      "source": [
        "#Shapes\n",
        "train.shape, test.shape"
      ]
    },
    {
      "cell_type": "code",
      "execution_count": null,
      "metadata": {
        "colab": {
          "base_uri": "https://localhost:8080/"
        },
        "id": "0GCfVXd7Vo0h",
        "outputId": "f1d811d1-a3e1-4dae-b28e-22da0b7a2239"
      },
      "outputs": [
        {
          "data": {
            "text/plain": [
              "PhraseId       int64\n",
              "SentenceId     int64\n",
              "Phrase        object\n",
              "Sentiment      int64\n",
              "dtype: object"
            ]
          },
          "execution_count": 4,
          "metadata": {},
          "output_type": "execute_result"
        }
      ],
      "source": [
        "#dtypes\n",
        "train.dtypes"
      ]
    },
    {
      "cell_type": "markdown",
      "metadata": {
        "id": "z53__CPoVxXG"
      },
      "source": [
        "# (Exploratory data analysis)EDA Analysis\n"
      ]
    },
    {
      "cell_type": "code",
      "execution_count": null,
      "metadata": {
        "id": "l6AJujC0V2TM"
      },
      "outputs": [],
      "source": [
        "labels=train.Sentiment"
      ]
    },
    {
      "cell_type": "code",
      "execution_count": null,
      "metadata": {
        "colab": {
          "base_uri": "https://localhost:8080/",
          "height": 337
        },
        "id": "zj8mZ5efV5mi",
        "outputId": "22445db3-0a1e-4aaa-9b78-a322d6ed02f5"
      },
      "outputs": [
        {
          "data": {
            "text/plain": [
              "<BarContainer object of 5 artists>"
            ]
          },
          "execution_count": 6,
          "metadata": {},
          "output_type": "execute_result"
        },
        {
          "data": {
            "image/png": "[encoded data removed]",
            "text/plain": [
              "<Figure size 936x360 with 1 Axes>"
            ]
          },
          "metadata": {},
          "output_type": "display_data"
        }
      ],
      "source": [
        "plt.figure(figsize=(13,5))\n",
        "plt.bar(height=train.Sentiment.value_counts(), x=train.Sentiment.unique())\n"
      ]
    },
    {
      "cell_type": "markdown",
      "metadata": {
        "id": "lKsYXeNTV-LB"
      },
      "source": [
        "# Preprocessing the data"
      ]
    },
    {
      "cell_type": "code",
      "execution_count": null,
      "metadata": {
        "colab": {
          "base_uri": "https://localhost:8080/",
          "height": 52
        },
        "id": "-Tz-8bh3WIaV",
        "outputId": "0be550f6-e9d0-4fc6-f843-1956d3893c0b"
      },
      "outputs": [
        {
          "data": {
            "application/vnd.google.colaboratory.intrinsic+json": {
              "type": "string"
            },
            "text/plain": [
              "'A series of escapades demonstrating the adage that what is good for the goose is also good for the gander , some of which occasionally amuses but none of which amounts to much of a story .'"
            ]
          },
          "execution_count": 7,
          "metadata": {},
          "output_type": "execute_result"
        }
      ],
      "source": [
        "#Get the Phrase into a list, for easy text cleanup and manipulation\n",
        "raw_phrases = train.Phrase.values\n",
        "raw_phrases[0]"
      ]
    },
    {
      "cell_type": "code",
      "execution_count": null,
      "metadata": {
        "colab": {
          "base_uri": "https://localhost:8080/",
          "height": 52
        },
        "id": "kFWVvx5FWYYI",
        "outputId": "79aa92c6-d477-45fb-a6ea-e6ce34e04a50"
      },
      "outputs": [
        {
          "data": {
            "application/vnd.google.colaboratory.intrinsic+json": {
              "type": "string"
            },
            "text/plain": [
              "'A series of escapades demonstrating the adage that what is good for the goose is also good for the gander , some of which occasionally amuses but none of which amounts to much of a story .'"
            ]
          },
          "execution_count": 8,
          "metadata": {},
          "output_type": "execute_result"
        }
      ],
      "source": [
        "#Using regular expressions, remove IP addresses and URLs\n",
        "phrases_ip_remove = [re.sub(r'((25[0-5]|2[0-4][0-9]|[01]?[0-9][0-9]?)(\\.|$)){4}', '', text) for text in raw_phrases]\n",
        "phrases_ip_remove[0]"
      ]
    },
    {
      "cell_type": "code",
      "execution_count": null,
      "metadata": {
        "colab": {
          "base_uri": "https://localhost:8080/",
          "height": 52
        },
        "id": "CR5dscLQWf1Q",
        "outputId": "ba36b41c-a6ac-439b-bead-553ab61cb8c5"
      },
      "outputs": [
        {
          "data": {
            "application/vnd.google.colaboratory.intrinsic+json": {
              "type": "string"
            },
            "text/plain": [
              "'A series of escapades demonstrating the adage that what is good for the goose is also good for the gander  some of which occasionally amuses but none of which amounts to much of a story '"
            ]
          },
          "execution_count": 9,
          "metadata": {},
          "output_type": "execute_result"
        }
      ],
      "source": [
        "#Using regular expressions, remove special characters\n",
        "phrases_spl_remove = [re.sub('[^A-Za-z \\']+', '', text) for text in phrases_ip_remove]\n",
        "phrases_spl_remove[0]"
      ]
    },
    {
      "cell_type": "code",
      "execution_count": null,
      "metadata": {
        "colab": {
          "base_uri": "https://localhost:8080/",
          "height": 52
        },
        "id": "CaS5897KWica",
        "outputId": "63f442a7-5c2f-41f5-f90a-fbcbacc5164f"
      },
      "outputs": [
        {
          "data": {
            "application/vnd.google.colaboratory.intrinsic+json": {
              "type": "string"
            },
            "text/plain": [
              "'a series of escapades demonstrating the adage that what is good for the goose is also good for the gander  some of which occasionally amuses but none of which amounts to much of a story '"
            ]
          },
          "execution_count": 10,
          "metadata": {},
          "output_type": "execute_result"
        }
      ],
      "source": [
        "#Normalize the casing\n",
        "phrases_lower=[text.lower() for text in phrases_spl_remove]\n",
        "phrases_lower[0]"
      ]
    },
    {
      "cell_type": "code",
      "execution_count": null,
      "metadata": {
        "colab": {
          "base_uri": "https://localhost:8080/"
        },
        "id": "1CGHDao-WlHC",
        "outputId": "31aeab09-9911-44d7-9cde-dcf913df8663"
      },
      "outputs": [
        {
          "data": {
            "text/plain": [
              "['a',\n",
              " 'series',\n",
              " 'of',\n",
              " 'escapades',\n",
              " 'demonstrating',\n",
              " 'the',\n",
              " 'adage',\n",
              " 'that',\n",
              " 'what',\n",
              " 'is',\n",
              " 'good',\n",
              " 'for',\n",
              " 'the',\n",
              " 'goose',\n",
              " 'is',\n",
              " 'also',\n",
              " 'good',\n",
              " 'for',\n",
              " 'the',\n",
              " 'gander',\n",
              " 'some',\n",
              " 'of',\n",
              " 'which',\n",
              " 'occasionally',\n",
              " 'amuses',\n",
              " 'but',\n",
              " 'none',\n",
              " 'of',\n",
              " 'which',\n",
              " 'amounts',\n",
              " 'to',\n",
              " 'much',\n",
              " 'of',\n",
              " 'a',\n",
              " 'story']"
            ]
          },
          "execution_count": 13,
          "metadata": {},
          "output_type": "execute_result"
        }
      ],
      "source": [
        "#Tokenize using word_tokenize from NLTK\n",
        "phrases_word_tok0=[word_tokenize(text) for text in phrases_lower]\n",
        "phrases_word_tok0[0]"
      ]
    },
    {
      "cell_type": "code",
      "execution_count": null,
      "metadata": {
        "colab": {
          "base_uri": "https://localhost:8080/"
        },
        "id": "B6xIz02eWmJt",
        "outputId": "246f41e3-c9da-4942-c59f-6cdc9c5d544c"
      },
      "outputs": [
        {
          "data": {
            "text/plain": [
              "['a',\n",
              " 'series',\n",
              " 'of',\n",
              " 'escapades',\n",
              " 'demonstrating',\n",
              " 'the',\n",
              " 'adage',\n",
              " 'that',\n",
              " 'what',\n",
              " 'is',\n",
              " 'good',\n",
              " 'for',\n",
              " 'the',\n",
              " 'goose',\n",
              " 'is',\n",
              " 'also',\n",
              " 'good',\n",
              " 'for',\n",
              " 'the',\n",
              " 'gander',\n",
              " 'some',\n",
              " 'of',\n",
              " 'which',\n",
              " 'occasionally',\n",
              " 'amuses',\n",
              " 'but',\n",
              " 'none',\n",
              " 'of',\n",
              " 'which',\n",
              " 'amounts',\n",
              " 'to',\n",
              " 'much',\n",
              " 'of',\n",
              " 'a',\n",
              " 'story']"
            ]
          },
          "execution_count": 14,
          "metadata": {},
          "output_type": "execute_result"
        }
      ],
      "source": [
        "#Remove punctuation single quote\n",
        "phrases_word_tok=[]\n",
        "for words in phrases_word_tok0:\n",
        "    phrases_word_tok.append([word for word in words if word not in punctuation])\n",
        "phrases_word_tok[0]"
      ]
    },
    {
      "cell_type": "code",
      "execution_count": null,
      "metadata": {
        "colab": {
          "base_uri": "https://localhost:8080/",
          "height": 52
        },
        "id": "MrLq-g9EWo7j",
        "outputId": "3956d63d-63f0-41b1-e6e1-5d6ad2cd207c"
      },
      "outputs": [
        {
          "data": {
            "application/vnd.google.colaboratory.intrinsic+json": {
              "type": "string"
            },
            "text/plain": [
              "'a series of escapades demonstrating the adage that what is good for the goose is also good for the gander some of which occasionally amuses but none of which amounts to much of a story'"
            ]
          },
          "execution_count": 15,
          "metadata": {},
          "output_type": "execute_result"
        }
      ],
      "source": [
        "#Flatten\n",
        "cleaned_phrases_train=[]\n",
        "for text in phrases_word_tok:\n",
        "    cleaned_phrases_train.append(\" \".join(word for word in text))\n",
        "cleaned_phrases_train[0]"
      ]
    },
    {
      "cell_type": "code",
      "execution_count": null,
      "metadata": {
        "id": "U72DTu-AWrqJ"
      },
      "outputs": [],
      "source": [
        "#validation set\n",
        "x_train, x_val, y_train, y_val = train_test_split(cleaned_phrases_train, labels, test_size=0.10, random_state=10)\n"
      ]
    },
    {
      "cell_type": "code",
      "execution_count": null,
      "metadata": {
        "colab": {
          "base_uri": "https://localhost:8080/"
        },
        "id": "Xc_H5xE7WwIg",
        "outputId": "2e7c741d-7193-4709-9fdd-36b0f3cb9f25"
      },
      "outputs": [
        {
          "data": {
            "text/plain": [
              "((140454, 200), (140454,), (15606, 200), (15606,))"
            ]
          },
          "execution_count": 17,
          "metadata": {},
          "output_type": "execute_result"
        }
      ],
      "source": [
        "#Training features and labels\n",
        "#Padding Sequences\n",
        "labels=train.Sentiment.values\n",
        "tokenizer = Tokenizer(num_words=20000)\n",
        "tokenizer.fit_on_texts(x_train)\n",
        "sequences = tokenizer.texts_to_sequences(x_train)\n",
        "x_train=pad_sequences(sequences, maxlen=200)\n",
        "sequences = tokenizer.texts_to_sequences(x_val)\n",
        "x_val=pad_sequences(sequences, maxlen=200)\n",
        "x_train.shape, y_train.shape, x_val.shape, y_val.shape"
      ]
    },
    {
      "cell_type": "code",
      "execution_count": null,
      "metadata": {
        "id": "RTpxplA1W18n"
      },
      "outputs": [],
      "source": [
        "#Function for Preprocessing for test data\n",
        "def Preprocess(test):\n",
        "        \n",
        "    #Get the Phrase into a list, for easy text cleanup and manipulation\n",
        "    raw_phrases = test.Phrase.values\n",
        "    \n",
        "    #Using regular expressions, remove URLs\n",
        "    phrases_ip_remove = [re.sub(r'((25[0-5]|2[0-4][0-9]|[01]?[0-9][0-9]?)(\\.|$)){4}', '', text) for text in raw_phrases]\n",
        "    \n",
        "       \n",
        "    #Using regular expressions, remove special characters\n",
        "    phrases_spl_remove = [re.sub('[^A-Za-z \\']+', '', text) for text in phrases_ip_remove]\n",
        "    phrases_spl_remove[0]\n",
        "\n",
        "    #Normalize the casing\n",
        "    phrases_lower=[text.lower() for text in phrases_spl_remove]\n",
        "    \n",
        "    #Tokenize using word_tokenize from NLTK\n",
        "    phrases_word_tok0=[word_tokenize(text) for text in phrases_lower]\n",
        "    \n",
        "    #Remove punctuation single quote\n",
        "    phrases_word_tok=[]\n",
        "    for words in phrases_word_tok0:\n",
        "        phrases_word_tok.append([word for word in words if word not in punctuation])\n",
        "    phrases_word_tok[0]\n",
        "    \n",
        "    \n",
        "    #Flatten\n",
        "    cleaned_phrases=[]\n",
        "    for text in phrases_word_tok:\n",
        "        cleaned_phrases.append(\" \".join(word for word in text))\n",
        "\n",
        "    #convert to sequences\n",
        "    sequences = tokenizer.texts_to_sequences(cleaned_phrases)\n",
        "    test_trans=pad_sequences(sequences, maxlen=200)\n",
        "\n",
        "    return test_trans"
      ]
    },
    {
      "cell_type": "markdown",
      "metadata": {
        "id": "OK99CmeZW3Ao"
      },
      "source": [
        "# Model Building and Evaluation"
      ]
    },
    {
      "cell_type": "code",
      "execution_count": null,
      "metadata": {
        "colab": {
          "base_uri": "https://localhost:8080/"
        },
        "id": "j48f_v6mW8mu",
        "outputId": "c8bd64ed-d687-4183-84a1-9d0540d24c66"
      },
      "outputs": [
        {
          "name": "stdout",
          "output_type": "stream",
          "text": [
            "WARNING:tensorflow:Layer lstm will not use cuDNN kernels since it doesn't meet the criteria. It will use a generic GPU kernel as fallback when running on GPU.\n",
            "WARNING:tensorflow:Layer lstm will not use cuDNN kernels since it doesn't meet the criteria. It will use a generic GPU kernel as fallback when running on GPU.\n",
            "WARNING:tensorflow:Layer lstm will not use cuDNN kernels since it doesn't meet the criteria. It will use a generic GPU kernel as fallback when running on GPU.\n",
            "Model: \"sequential\"\n",
            "_________________________________________________________________\n",
            " Layer (type)                Output Shape              Param #   \n",
            "=================================================================\n",
            " embedding (Embedding)       (None, 200, 500)          10000000  \n",
            "                                                                 \n",
            " bidirectional (Bidirectiona  (None, 128)              289280    \n",
            " l)                                                              \n",
            "                                                                 \n",
            " flatten (Flatten)           (None, 128)               0         \n",
            "                                                                 \n",
            " dense (Dense)               (None, 16)                2064      \n",
            "                                                                 \n",
            " batch_normalization (BatchN  (None, 16)               64        \n",
            " ormalization)                                                   \n",
            "                                                                 \n",
            " dropout (Dropout)           (None, 16)                0         \n",
            "                                                                 \n",
            " dense_1 (Dense)             (None, 16)                272       \n",
            "                                                                 \n",
            " batch_normalization_1 (Batc  (None, 16)               64        \n",
            " hNormalization)                                                 \n",
            "                                                                 \n",
            " dropout_1 (Dropout)         (None, 16)                0         \n",
            "                                                                 \n",
            " dense_2 (Dense)             (None, 5)                 85        \n",
            "                                                                 \n",
            "=================================================================\n",
            "Total params: 10,291,829\n",
            "Trainable params: 10,291,765\n",
            "Non-trainable params: 64\n",
            "_________________________________________________________________\n"
          ]
        }
      ],
      "source": [
        "model=Sequential()\n",
        "model.add(Embedding(20000, 500, input_length=x_train.shape[1])),\n",
        "model.add(Bidirectional(LSTM(64,  activation='relu'))),\n",
        "\n",
        "model.add(Flatten())\n",
        "\n",
        "model.add(Dense(16, activation='relu'))\n",
        "model.add(BatchNormalization())\n",
        "model.add(Dropout(0.3))\n",
        "\n",
        "model.add(Dense(16, activation='relu'))\n",
        "model.add(BatchNormalization())\n",
        "model.add(Dropout(0.3))\n",
        "\n",
        "model.add(Dense(5, activation='softmax'))\n",
        "model.summary() "
      ]
    },
    {
      "cell_type": "code",
      "execution_count": null,
      "metadata": {
        "id": "elTXsErDW_H6"
      },
      "outputs": [],
      "source": [
        "model.compile(loss='categorical_crossentropy', optimizer='adam', metrics=['accuracy'])"
      ]
    },
    {
      "cell_type": "code",
      "execution_count": null,
      "metadata": {
        "colab": {
          "base_uri": "https://localhost:8080/"
        },
        "id": "9n6EesyMXD5-",
        "outputId": "bc2ab17d-2e7d-44c7-bab0-2cd026ce9b2c"
      },
      "outputs": [
        {
          "name": "stdout",
          "output_type": "stream",
          "text": [
            "486/486 [==============================] - 195s 391ms/step - loss: 1.2625 - accuracy: 0.5197 - val_loss: 1.0134 - val_accuracy: 0.5747\n"
          ]
        }
      ],
      "source": [
        "history = model.fit(x_train, to_categorical(y_train), epochs=1, batch_size=289, validation_data=(x_val, to_categorical(y_val)))"
      ]
    },
    {
      "cell_type": "code",
      "execution_count": null,
      "metadata": {
        "colab": {
          "base_uri": "https://localhost:8080/",
          "height": 336
        },
        "id": "K5IowGykXK0V",
        "outputId": "ba2f9583-d711-4d59-df30-96a398e4bb99"
      },
      "outputs": [
        {
          "data": {
            "image/png": "[encoded data removed]",
            "text/plain": [
              "<Figure size 936x360 with 1 Axes>"
            ]
          },
          "metadata": {},
          "output_type": "display_data"
        }
      ],
      "source": [
        "#Plot the graph to check training and testing accuracy over the period of time\n",
        "plt.figure(figsize=(13,5))\n",
        "plt.title(\"Accuracy vs Epochs\")\n",
        "plt.plot(history.history['accuracy'], label='Train Accuracy')\n",
        "plt.plot(history.history['val_accuracy'], label='Test Accuracy')\n",
        "plt.legend(loc='best')\n",
        "plt.show()"
      ]
    },
    {
      "cell_type": "code",
      "execution_count": null,
      "metadata": {
        "colab": {
          "base_uri": "https://localhost:8080/"
        },
        "id": "Qsmv2GdYXNi_",
        "outputId": "2c63022f-9339-4f3b-9105-d8e2b8ab1707"
      },
      "outputs": [
        {
          "name": "stdout",
          "output_type": "stream",
          "text": [
            "488/488 [==============================] - 37s 76ms/step - loss: 1.0134 - accuracy: 0.5747\n"
          ]
        },
        {
          "data": {
            "text/plain": [
              "[1.0133782625198364, 0.5747148394584656]"
            ]
          },
          "execution_count": 23,
          "metadata": {},
          "output_type": "execute_result"
        }
      ],
      "source": [
        "model.evaluate(x_val, to_categorical(y_val))"
      ]
    },
    {
      "cell_type": "code",
      "execution_count": null,
      "metadata": {
        "id": "Vi8xuCIoXQgb"
      },
      "outputs": [],
      "source": [
        "#Predict test data\n",
        "test_data = Preprocess(test)\n",
        "test['Sentiment'] = np.argmax(model.predict(test_data), axis=1)"
      ]
    },
    {
      "cell_type": "code",
      "execution_count": null,
      "metadata": {
        "id": "x5v7xnvvDgkH"
      },
      "outputs": [],
      "source": [
        "test['Sentiment'] = test['Sentiment'].map({0: 'negative', 1: 'somewhat negative', 2: 'neutral', 3: 'somewhat positive', 4: 'positive'})"
      ]
    },
    {
      "cell_type": "code",
      "execution_count": null,
      "metadata": {
        "colab": {
          "base_uri": "https://localhost:8080/"
        },
        "id": "iF3Sto-_CUa6",
        "outputId": "bc6b6b4d-0bc3-4e69-b867-80c41c47b41d"
      },
      "outputs": [
        {
          "name": "stdout",
          "output_type": "stream",
          "text": [
            "0         neutral\n",
            "1         neutral\n",
            "2         neutral\n",
            "3         neutral\n",
            "4         neutral\n",
            "           ...   \n",
            "156055    neutral\n",
            "156056    neutral\n",
            "156057    neutral\n",
            "156058    neutral\n",
            "156059    neutral\n",
            "Name: Sentiment, Length: 156060, dtype: object\n"
          ]
        }
      ],
      "source": [
        "print(test['Sentiment'])"
      ]
    }
  ],
  "metadata": {
    "accelerator": "GPU",
    "colab": {
      "collapsed_sections": [],
      "name": "Sentiment Analysis.ipynb",
      "provenance": [],
      "include_colab_link": true
    },
    "gpuClass": "standard",
    "kernelspec": {
      "display_name": "Python 3",
      "name": "python3"
    },
    "language_info": {
      "name": "python"
    }
  },
  "nbformat": 4,
  "nbformat_minor": 0
}